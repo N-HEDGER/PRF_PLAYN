{
 "cells": [
  {
   "cell_type": "markdown",
   "metadata": {},
   "source": [
    "# Surface pre-processing.\n",
    "\n",
    "This should be quite straighforward.\n",
    "\n",
    "1. Denoising of data\n",
    "2. Averaging over runs.\n",
    "\n",
    "I am going to try and rely solely on python-based tools for this."
   ]
  },
  {
   "cell_type": "markdown",
   "metadata": {},
   "source": [
    "## First, get the set of gifti_files."
   ]
  },
  {
   "cell_type": "code",
   "execution_count": 1,
   "metadata": {},
   "outputs": [],
   "source": [
    "funcpath='/Volumes/BAHAMUT/PRF_DATA/ds002574-download/derivatives/fmriprep/sub-02/ses-01/func'\n",
    "\n",
    "\n",
    "def findgiftis(FOLDER,ext):\n",
    "    \n",
    "    # Function goal: return nifti files within a directory\n",
    "    \n",
    "    # Detail: could be used for a file with any extension...\n",
    "    \n",
    "    #Inputs\n",
    "    \n",
    "    # FOLDER (directory to search)\n",
    "    # ext (the suffix (.nii or .nii.gz))\n",
    "    \n",
    "    def fprintf(stream, format_spec, *args):\n",
    "        stream.write(format_spec % args)\n",
    "    import os\n",
    "    import sys\n",
    "    niftilist=list()\n",
    "    for file in os.listdir(FOLDER):\n",
    "        if file.endswith(ext):\n",
    "            niftilist.append(FOLDER+\"/\"+file)\n",
    "    fprintf(sys.stdout, \"Found %d gifti files \\n\", len(niftilist))\n",
    "    return(sorted(niftilist))"
   ]
  },
  {
   "cell_type": "code",
   "execution_count": 2,
   "metadata": {},
   "outputs": [],
   "source": [
    "base_folder='/Volumes/BAHAMUT/ALL_PRF_DAT/BIGRUN/derivatives/fmriprep/sub-02'"
   ]
  },
  {
   "cell_type": "code",
   "execution_count": 4,
   "metadata": {},
   "outputs": [
    {
     "name": "stdout",
     "output_type": "stream",
     "text": [
      "Found 4 directories \n"
     ]
    }
   ],
   "source": [
    "import os\n",
    "\n",
    "def listabsdir(FOLDER,ext):\n",
    "    \n",
    "   \n",
    "    def fprintf(stream, format_spec, *args):\n",
    "        stream.write(format_spec % args)\n",
    "    import os\n",
    "    import sys\n",
    "    niftilist=list()\n",
    "    for file in os.listdir(FOLDER):\n",
    "        if not file.startswith('.') and file.startswith(tuple(ext)):\n",
    "            niftilist.append(FOLDER+\"/\"+file)\n",
    "    fprintf(sys.stdout, \"Found %d directories \\n\", len(niftilist))\n",
    "    return(sorted(niftilist))\n",
    "\n",
    "\n",
    "dirs=listabsdir(base_folder,'ses')"
   ]
  },
  {
   "cell_type": "code",
   "execution_count": 3,
   "metadata": {},
   "outputs": [
    {
     "ename": "NameError",
     "evalue": "name 'dirs' is not defined",
     "output_type": "error",
     "traceback": [
      "\u001b[0;31m---------------------------------------------------------------------------\u001b[0m",
      "\u001b[0;31mNameError\u001b[0m                                 Traceback (most recent call last)",
      "\u001b[0;32m<ipython-input-3-ed9d472a3115>\u001b[0m in \u001b[0;36m<module>\u001b[0;34m\u001b[0m\n\u001b[1;32m      1\u001b[0m \u001b[0mfuncgiftsw\u001b[0m\u001b[0;34m=\u001b[0m\u001b[0mlist\u001b[0m\u001b[0;34m(\u001b[0m\u001b[0;34m)\u001b[0m\u001b[0;34m\u001b[0m\u001b[0;34m\u001b[0m\u001b[0m\n\u001b[1;32m      2\u001b[0m \u001b[0;34m\u001b[0m\u001b[0m\n\u001b[0;32m----> 3\u001b[0;31m \u001b[0;32mfor\u001b[0m \u001b[0mcdir\u001b[0m \u001b[0;32min\u001b[0m \u001b[0mdirs\u001b[0m\u001b[0;34m:\u001b[0m\u001b[0;34m\u001b[0m\u001b[0;34m\u001b[0m\u001b[0m\n\u001b[0m\u001b[1;32m      4\u001b[0m     \u001b[0mfuncgiftsw\u001b[0m\u001b[0;34m.\u001b[0m\u001b[0mappend\u001b[0m\u001b[0;34m(\u001b[0m\u001b[0mfindgiftis\u001b[0m\u001b[0;34m(\u001b[0m\u001b[0mcdir\u001b[0m\u001b[0;34m+\u001b[0m\u001b[0;34m'/func'\u001b[0m\u001b[0;34m,\u001b[0m\u001b[0;34m'.gii'\u001b[0m\u001b[0;34m)\u001b[0m\u001b[0;34m)\u001b[0m\u001b[0;34m\u001b[0m\u001b[0;34m\u001b[0m\u001b[0m\n",
      "\u001b[0;31mNameError\u001b[0m: name 'dirs' is not defined"
     ]
    }
   ],
   "source": [
    "funcgiftsw=list()\n",
    "\n",
    "for cdir in dirs:\n",
    "    funcgiftsw.append(findgiftis(cdir+'/func','.gii'))"
   ]
  },
  {
   "cell_type": "code",
   "execution_count": 5,
   "metadata": {},
   "outputs": [
    {
     "data": {
      "text/plain": [
       "52"
      ]
     },
     "execution_count": 5,
     "metadata": {},
     "output_type": "execute_result"
    }
   ],
   "source": [
    "len(funcgiftsw[0])"
   ]
  },
  {
   "cell_type": "code",
   "execution_count": 6,
   "metadata": {},
   "outputs": [],
   "source": [
    "funcgifts = []\n",
    "for sublist in funcgiftsw:\n",
    "    for item in sublist:\n",
    "        funcgifts.append(item)"
   ]
  },
  {
   "cell_type": "code",
   "execution_count": 7,
   "metadata": {},
   "outputs": [
    {
     "data": {
      "text/plain": [
       "184"
      ]
     },
     "execution_count": 7,
     "metadata": {},
     "output_type": "execute_result"
    }
   ],
   "source": [
    "len(funcgifts)"
   ]
  },
  {
   "cell_type": "code",
   "execution_count": 8,
   "metadata": {},
   "outputs": [],
   "source": [
    "leftgifts=[nift for nift in funcgifts if \"fsaverage_hemi-L\" in(nift)]\n",
    "rightgifts=[nift for nift in funcgifts if \"fsaverage_hemi-R\" in(nift)]"
   ]
  },
  {
   "cell_type": "code",
   "execution_count": 9,
   "metadata": {},
   "outputs": [
    {
     "data": {
      "text/plain": [
       "46"
      ]
     },
     "execution_count": 9,
     "metadata": {},
     "output_type": "execute_result"
    }
   ],
   "source": [
    "len(leftgifts)"
   ]
  },
  {
   "cell_type": "markdown",
   "metadata": {},
   "source": [
    "We have a gifti file for each hemisphere and for each run."
   ]
  },
  {
   "cell_type": "code",
   "execution_count": 10,
   "metadata": {},
   "outputs": [],
   "source": [
    "import nilearn\n",
    "from nilearn import surface"
   ]
  },
  {
   "cell_type": "markdown",
   "metadata": {},
   "source": [
    "## First, detrend the data using a savgolay filter."
   ]
  },
  {
   "cell_type": "code",
   "execution_count": 11,
   "metadata": {},
   "outputs": [],
   "source": [
    "def savgol_filter(data, polyorder=3, deriv=0, window_length = 120,tr =1.5):\n",
    "    \"\"\" Applies a savitsky-golay filter to a nifti-file.\n",
    "\n",
    "    Fits a savitsky-golay filter to a 4D fMRI nifti-file and subtracts the\n",
    "    fitted data from the original data to effectively remove low-frequency\n",
    "    signals.\n",
    "\n",
    "    Parameters\n",
    "    ----------\n",
    "    in_file : str\n",
    "        Absolute path to nifti-file.\n",
    "    polyorder : int (default: 3)\n",
    "        Order of polynomials to use in filter.\n",
    "    deriv : int (default: 0)\n",
    "        Number of derivatives to use in filter.\n",
    "    window_length : int (default: 120)\n",
    "        Window length in seconds.\n",
    "\n",
    "    Returns\n",
    "    -------\n",
    "    out_file : str\n",
    "        Absolute path to filtered nifti-file.\n",
    "    \"\"\"\n",
    "\n",
    "    import nibabel as nib\n",
    "    from scipy.signal import savgol_filter\n",
    "    import numpy as np\n",
    "    import os\n",
    "\n",
    "    dims = data.shape\n",
    "    \n",
    "\n",
    "    # TR must be in seconds\n",
    "    if tr < 0.01:\n",
    "        tr = np.round(tr * 1000, decimals=3)\n",
    "    if tr > 20:\n",
    "        tr = tr / 1000.0\n",
    "\n",
    "    window = np.int(window_length / tr)\n",
    "    \n",
    "    # Window must be odd\n",
    "    if window % 2 == 0:\n",
    "        window += 1\n",
    "\n",
    "    data = data.reshape((np.prod(data.shape[:-1]), data.shape[-1]))\n",
    "    data_filt = savgol_filter(data, window_length=window, polyorder=polyorder,\n",
    "                              deriv=deriv, axis=1, mode='nearest')\n",
    "\n",
    "    data_filt = data - data_filt + data_filt.mean(axis=-1)[:, np.newaxis]\n",
    "    data_filt = data_filt.reshape(dims)\n",
    "\n",
    "    return data_filt"
   ]
  },
  {
   "cell_type": "code",
   "execution_count": 12,
   "metadata": {},
   "outputs": [],
   "source": [
    "polys=3\n",
    "deriv=0\n",
    "wl=120\n",
    "tr=1.5"
   ]
  },
  {
   "cell_type": "code",
   "execution_count": 13,
   "metadata": {},
   "outputs": [],
   "source": [
    "from joblib import Parallel, delayed"
   ]
  },
  {
   "cell_type": "code",
   "execution_count": 14,
   "metadata": {},
   "outputs": [
    {
     "name": "stderr",
     "output_type": "stream",
     "text": [
      "[Parallel(n_jobs=5)]: Using backend LokyBackend with 5 concurrent workers.\n",
      "[Parallel(n_jobs=5)]: Done   9 tasks      | elapsed:   27.8s\n",
      "[Parallel(n_jobs=5)]: Done  23 tasks      | elapsed:   55.2s\n",
      "[Parallel(n_jobs=5)]: Done  43 out of  46 | elapsed:  1.3min remaining:    5.5s\n",
      "[Parallel(n_jobs=5)]: Done  46 out of  46 | elapsed:  1.3min finished\n",
      "[Parallel(n_jobs=5)]: Using backend LokyBackend with 5 concurrent workers.\n",
      "[Parallel(n_jobs=5)]: Done   8 tasks      | elapsed:   24.1s\n",
      "[Parallel(n_jobs=5)]: Done  22 tasks      | elapsed:   48.5s\n",
      "[Parallel(n_jobs=5)]: Done  43 out of  46 | elapsed:  1.3min remaining:    5.4s\n",
      "[Parallel(n_jobs=5)]: Done  46 out of  46 | elapsed:  1.3min finished\n"
     ]
    }
   ],
   "source": [
    "cleaned_data_L=Parallel(n_jobs=5,verbose=9)(delayed(savgol_filter)(surface.load_surf_data(fn),polys,deriv,wl,tr)  for fn in leftgifts)\n",
    "cleaned_data_R=Parallel(n_jobs=5,verbose=9)(delayed(savgol_filter)(surface.load_surf_data(fn),polys,deriv,wl,tr)  for fn in rightgifts)"
   ]
  },
  {
   "cell_type": "markdown",
   "metadata": {},
   "source": [
    "## Nuissance regression\n",
    "\n",
    "Get nuissance files"
   ]
  },
  {
   "cell_type": "code",
   "execution_count": 15,
   "metadata": {},
   "outputs": [
    {
     "name": "stdout",
     "output_type": "stream",
     "text": [
      "Found 13 directories \n",
      "Found 8 directories \n",
      "Found 10 directories \n",
      "Found 15 directories \n"
     ]
    }
   ],
   "source": [
    "nfilesw=list()\n",
    "\n",
    "    \n",
    "    \n",
    "def listabsdir(FOLDER,ext):\n",
    "    \n",
    "   \n",
    "    def fprintf(stream, format_spec, *args):\n",
    "        stream.write(format_spec % args)\n",
    "    import os\n",
    "    import sys\n",
    "    niftilist=list()\n",
    "    for file in os.listdir(FOLDER):\n",
    "        if not file.startswith('.') and file.endswith(tuple(ext)):\n",
    "            niftilist.append(FOLDER+\"/\"+file)\n",
    "    fprintf(sys.stdout, \"Found %d directories \\n\", len(niftilist))\n",
    "    return(sorted(niftilist))\n",
    "\n",
    "\n",
    "for cdir in dirs:\n",
    "    nfilesw.append(listabsdir(cdir+'/func','.tsv'))"
   ]
  },
  {
   "cell_type": "code",
   "execution_count": 16,
   "metadata": {},
   "outputs": [],
   "source": [
    "n_files = []\n",
    "for sublist in nfilesw:\n",
    "    for item in sublist:\n",
    "        n_files.append(item)"
   ]
  },
  {
   "cell_type": "code",
   "execution_count": 17,
   "metadata": {},
   "outputs": [],
   "source": [
    "n_components =5 # number of pca components to regress out\n",
    "\n",
    "# grab these variables from nuissance file:\n",
    "n_components=5\n",
    "varr = ['std_dvars','dvars','framewise_displacement','a_comp_cor_00','a_comp_cor_01','a_comp_cor_02',\n",
    "    'a_comp_cor_03',\n",
    "    'a_comp_cor_04',\n",
    "    'a_comp_cor_05',\n",
    "    'trans_x',\n",
    "    'trans_y',\n",
    "    'trans_z',\n",
    "    'rot_x',\n",
    "    'rot_y',\n",
    "    'rot_z',\n",
    "    'cosine00']"
   ]
  },
  {
   "cell_type": "markdown",
   "metadata": {},
   "source": [
    "Now apply the same filter to the nuissance variables."
   ]
  },
  {
   "cell_type": "code",
   "execution_count": 18,
   "metadata": {},
   "outputs": [
    {
     "name": "stderr",
     "output_type": "stream",
     "text": [
      "/Users/nicholashedger/anaconda2/envs/py3env/lib/python3.6/site-packages/ipykernel_launcher.py:4: FutureWarning: \n",
      "\n",
      " | Starting with Nilearn 0.7.0, all Nistats functionality has been incorporated into Nilearn's stats & reporting modules.\n",
      " | Nistats package will no longer be updated or maintained.\n",
      "\n",
      "  after removing the cwd from sys.path.\n"
     ]
    }
   ],
   "source": [
    "import pandas as pd\n",
    "import numpy as np\n",
    "from sklearn.decomposition import PCA\n",
    "from nistats.regression import OLSModel\n",
    "\n",
    "def savgol_filter(data, polyorder=3, deriv=0, window_length = 120,TR=1.5):\n",
    "    \"\"\" Applies a savitsky-golay filter to a nifti-file.\n",
    "\n",
    "    Fits a savitsky-golay filter to a 4D fMRI nifti-file and subtracts the\n",
    "    fitted data from the original data to effectively remove low-frequency\n",
    "    signals.\n",
    "\n",
    "    \"\"\"\n",
    "\n",
    "    from scipy.signal import savgol_filter\n",
    "\n",
    "    window = np.int(window_length / TR)\n",
    "\n",
    "    # Window must be odd\n",
    "    if window % 2 == 0:\n",
    "        window += 1\n",
    "\n",
    "    data_filt = savgol_filter(data, window_length=window, polyorder=polyorder,\n",
    "                              deriv=deriv, mode='nearest')\n",
    "\n",
    "    data_filtered = data - data_filt + data_filt.mean()\n",
    "\n",
    "    return data_filtered\n",
    "\n",
    "\n",
    "def perform_ng(data,nuissance,varr,n_components):\n",
    "    df = pd.read_csv(nuissance, sep='\\t', header=0,index_col=None)\n",
    "    # get the wanted variables and do stuff with it\n",
    "    nuissances = []\n",
    "    for var in varr:\n",
    "        # get wanted nuissance variables\n",
    "        ndat = np.array(df[var])\n",
    "        # fill in nans\n",
    "        ndat[ndat=='n/a'] = np.nan\n",
    "        # cast to float\n",
    "        ndat = ndat.astype('float32')\n",
    "            # median fill nan values (i.e. first value )\n",
    "        ndat[np.isnan(ndat)] = np.nanmedian(ndat)\n",
    "            # temporally filter \n",
    "        filtered_data = savgol_filter(ndat)\n",
    "            # z-score (so that explained variance ratios is interpretable)\n",
    "        filtered_data_z = (filtered_data - np.mean(filtered_data)) / np.std(filtered_data)\n",
    "            # and append\n",
    "        nuissances.append(filtered_data_z)\n",
    "\n",
    "    nuissances = np.array(nuissances)    \n",
    "\n",
    "        # now do pca and grab first 5:\n",
    "    pca = PCA(n_components=n_components)  \n",
    "    pcas = pca.fit_transform(nuissances.T)\n",
    "\n",
    "    datashape = data.shape\n",
    "\n",
    "        # do nuissance regression\n",
    "    dm = np.hstack([np.ones((pcas.shape[0],1)),pcas]) # add intercept\n",
    "    model = OLSModel(dm)\n",
    "    fit = model.fit(data.reshape(-1,datashape[-1]).T)\n",
    "    resid = fit.resid.T.reshape(datashape)\n",
    "    resid += np.mean(data,axis=-1)[:,np.newaxis] # re-add the signal offset which was regressed out by the intercept\n",
    "    return resid, fit.theta,fit.r_square"
   ]
  },
  {
   "cell_type": "code",
   "execution_count": 19,
   "metadata": {},
   "outputs": [
    {
     "name": "stderr",
     "output_type": "stream",
     "text": [
      "[Parallel(n_jobs=5)]: Using backend LokyBackend with 5 concurrent workers.\n",
      "[Parallel(n_jobs=5)]: Done   8 tasks      | elapsed:   14.4s\n",
      "[Parallel(n_jobs=5)]: Done  22 tasks      | elapsed:   31.0s\n",
      "[Parallel(n_jobs=5)]: Done  43 out of  46 | elapsed:   56.9s remaining:    4.0s\n",
      "[Parallel(n_jobs=5)]: Done  46 out of  46 | elapsed:   58.7s finished\n"
     ]
    }
   ],
   "source": [
    "denoised_data_L=Parallel(n_jobs=5,verbose=9)(delayed(perform_ng)(cleaned_data_L[fn],n_files[fn],varr,n_components)  for fn in range(46))"
   ]
  },
  {
   "cell_type": "code",
   "execution_count": 20,
   "metadata": {},
   "outputs": [
    {
     "name": "stderr",
     "output_type": "stream",
     "text": [
      "[Parallel(n_jobs=5)]: Using backend LokyBackend with 5 concurrent workers.\n",
      "[Parallel(n_jobs=5)]: Done   8 tasks      | elapsed:   19.0s\n",
      "[Parallel(n_jobs=5)]: Done  22 tasks      | elapsed:   35.9s\n",
      "[Parallel(n_jobs=5)]: Done  43 out of  46 | elapsed:  1.0min remaining:    4.2s\n",
      "[Parallel(n_jobs=5)]: Done  46 out of  46 | elapsed:  1.0min finished\n"
     ]
    }
   ],
   "source": [
    "denoised_data_R=Parallel(n_jobs=5,verbose=9)(delayed(perform_ng)(cleaned_data_R[fn],n_files[fn],varr,n_components)  for fn in range(46))"
   ]
  },
  {
   "cell_type": "code",
   "execution_count": 22,
   "metadata": {},
   "outputs": [
    {
     "name": "stdout",
     "output_type": "stream",
     "text": [
      "Found 19 directories \n"
     ]
    }
   ],
   "source": [
    "from nilearn import plotting\n",
    "\n",
    "surfpath='/Volumes/BAHAMUT/ALL_PRF_DAT/BIGRUN/derivatives/freesurfer/fsaverage/surf'\n",
    "\n",
    "surface_files=listabsdir(surfpath, ['pial','orig','sphere', 'white','inflated','sulc','curv'])\n",
    "surface_filesL=[surf for surf in surface_files if \"lh\" in(surf)]\n",
    "surface_filesR=[surf for surf in surface_files if \"rh\" in(surf)]\n",
    "\n",
    "\n",
    "flatlh='/Volumes/BAHAMUT/ALL_PRF_DAT/BIGRUN/derivatives/freesurfer/fsaverage/surf/flat_lh.gii'\n",
    "flatrh='/Volumes/BAHAMUT/ALL_PRF_DAT/BIGRUN/derivatives/freesurfer/fsaverage/surf/flat_rh.gii'"
   ]
  },
  {
   "cell_type": "code",
   "execution_count": 21,
   "metadata": {},
   "outputs": [],
   "source": [
    "R2sL=[]\n",
    "for bits in denoised_data_L:\n",
    "    R2sL.append(np.nan_to_num(bits[2],0))\n",
    "    \n",
    "R2sR=[]\n",
    "for bits in denoised_data_R:\n",
    "    R2sR.append(np.nan_to_num(bits[2],0))\n",
    "\n",
    "    \n",
    "    \n",
    "R2sLav=np.mean(R2sL,axis=0)\n",
    "R2sRav=np.mean(R2sR,axis=0)"
   ]
  },
  {
   "cell_type": "code",
   "execution_count": 26,
   "metadata": {},
   "outputs": [
    {
     "data": {
      "text/plain": [
       "(327684,)"
      ]
     },
     "execution_count": 26,
     "metadata": {},
     "output_type": "execute_result"
    }
   ],
   "source": [
    "R2array=np.concatenate([R2sLav,R2sRav],axis=0)\n",
    "R2array.shape"
   ]
  },
  {
   "cell_type": "code",
   "execution_count": 27,
   "metadata": {},
   "outputs": [],
   "source": [
    "import nibabel\n",
    "\n",
    "outpath='/Volumes/BAHAMUT/OUTPUT/FULL'\n",
    "\n",
    "nibabel.freesurfer.io.write_morph_data(os.path.join(outpath,'noisefit_curv'),np.squeeze(R2array))\n"
   ]
  },
  {
   "cell_type": "code",
   "execution_count": 24,
   "metadata": {},
   "outputs": [],
   "source": [
    "del cleaned_data_L, cleaned_data_R"
   ]
  },
  {
   "cell_type": "code",
   "execution_count": 25,
   "metadata": {},
   "outputs": [],
   "source": [
    "mydataL=[]\n",
    "for bits in denoised_data_L:\n",
    "    mydataL.append(bits[0])\n",
    "    \n",
    "mydataR=[]\n",
    "for bits in denoised_data_R:\n",
    "    mydataR.append(bits[0])"
   ]
  },
  {
   "cell_type": "code",
   "execution_count": null,
   "metadata": {},
   "outputs": [],
   "source": [
    "#viewang=plotting.view_surf(surf_mesh=flatlh,surf_map=R2sLav,bg_map=surface_filesL[1],symmetric_cmap=False,threshold=1e-6,cmap='plasma',title='R2 of noise model')\n",
    "#viewang"
   ]
  },
  {
   "cell_type": "code",
   "execution_count": null,
   "metadata": {},
   "outputs": [],
   "source": [
    "#viewang=plotting.view_surf(surf_mesh=flatrh,surf_map=R2sRav,bg_map=surface_filesR[1],symmetric_cmap=False,threshold=1e-6,cmap='plasma',title='R2 of noise model')\n",
    "#viewang"
   ]
  },
  {
   "cell_type": "markdown",
   "metadata": {},
   "source": [
    "## Compute tsnrs"
   ]
  },
  {
   "cell_type": "code",
   "execution_count": 26,
   "metadata": {},
   "outputs": [],
   "source": [
    "def compute_tsnr(data):\n",
    "    tsnr = np.mean(data,axis=-1)/np.std(data,axis=-1)\n",
    "    tsnr[np.isnan(tsnr)] = 0\n",
    "    tsnr[np.isinf(tsnr)] = 0\n",
    "    tsnr += np.abs(np.min(tsnr))+0.01\n",
    "    tsnr=np.squeeze(tsnr)\n",
    "    return(tsnr)"
   ]
  },
  {
   "cell_type": "code",
   "execution_count": 27,
   "metadata": {},
   "outputs": [
    {
     "name": "stderr",
     "output_type": "stream",
     "text": [
      "[Parallel(n_jobs=5)]: Using backend LokyBackend with 5 concurrent workers.\n",
      "[Parallel(n_jobs=5)]: Done   8 tasks      | elapsed:    4.0s\n",
      "[Parallel(n_jobs=5)]: Done  22 tasks      | elapsed:   13.5s\n",
      "[Parallel(n_jobs=5)]: Done  43 out of  46 | elapsed:   26.9s remaining:    1.9s\n",
      "[Parallel(n_jobs=5)]: Done  46 out of  46 | elapsed:   28.4s finished\n",
      "[Parallel(n_jobs=5)]: Using backend LokyBackend with 5 concurrent workers.\n",
      "[Parallel(n_jobs=5)]: Done   8 tasks      | elapsed:    5.8s\n",
      "[Parallel(n_jobs=5)]: Done  22 tasks      | elapsed:   12.7s\n",
      "[Parallel(n_jobs=5)]: Done  43 out of  46 | elapsed:   24.4s remaining:    1.7s\n",
      "[Parallel(n_jobs=5)]: Done  46 out of  46 | elapsed:   25.7s finished\n"
     ]
    }
   ],
   "source": [
    "tsnr_L=Parallel(n_jobs=5,verbose=9)(delayed(compute_tsnr)(mydataL[fn])  for fn in range(46))\n",
    "tsnr_R=Parallel(n_jobs=5,verbose=9)(delayed(compute_tsnr)(mydataR[fn])  for fn in range(46))\n",
    "tsnr_L_arr=np.asarray(tsnr_L)\n",
    "tsnr_R_arr=np.asarray(tsnr_R)"
   ]
  },
  {
   "cell_type": "code",
   "execution_count": 28,
   "metadata": {},
   "outputs": [],
   "source": [
    "import dill\n",
    "def dill_save(obj,filename):\n",
    "    with open(filename,'wb') as output:\n",
    "        dill.dump(obj,output)\n",
    "        \n",
    "outputpath='/Volumes/BAHAMUT/TEMP'\n",
    "\n",
    "\n",
    "dill_save(tsnr_L_arr,os.path.join(outputpath,'tsnr_l.pkl'))\n",
    "dill_save(tsnr_R_arr,os.path.join(outputpath,'tsnr_r.pkl'))"
   ]
  },
  {
   "cell_type": "markdown",
   "metadata": {},
   "source": [
    "## Convert to percent signal change."
   ]
  },
  {
   "cell_type": "code",
   "execution_count": 27,
   "metadata": {},
   "outputs": [
    {
     "name": "stderr",
     "output_type": "stream",
     "text": [
      "/Users/nicholashedger/anaconda2/envs/py3env/lib/python3.6/site-packages/nilearn/signal.py:77: RuntimeWarning: invalid value encountered in true_divide\n",
      "  signals = (signals / mean_signal) * 100\n",
      "/Users/nicholashedger/anaconda2/envs/py3env/lib/python3.6/site-packages/nilearn/signal.py:81: UserWarning: psc standardization strategy is meaningless for features that have a mean of 0 or less. These time series are set to 0.\n",
      "  warnings.warn('psc standardization strategy is meaningless '\n"
     ]
    }
   ],
   "source": [
    "psc_L=list()\n",
    "psc_R=list()\n",
    "\n",
    "\n",
    "for fp in range(46):\n",
    "    psc_L.append(nilearn.signal.clean(signals=np.transpose(mydataL[fp]), detrend=False, standardize='psc', low_pass=None, high_pass=None, t_r=1.5, ensure_finite= True))\n",
    "    psc_R.append(nilearn.signal.clean(signals=np.transpose(mydataR[fp]), detrend=False, standardize='psc', low_pass=None, high_pass=None, t_r=1.5, ensure_finite= True))"
   ]
  },
  {
   "cell_type": "code",
   "execution_count": 31,
   "metadata": {},
   "outputs": [],
   "source": [
    "import dill\n",
    "def dill_save(obj,filename):\n",
    "    with open(filename,'wb') as output:\n",
    "        dill.dump(obj,output)"
   ]
  },
  {
   "cell_type": "code",
   "execution_count": 32,
   "metadata": {},
   "outputs": [],
   "source": [
    "outputpath='/Volumes/BAHAMUT'"
   ]
  },
  {
   "cell_type": "code",
   "execution_count": 33,
   "metadata": {},
   "outputs": [],
   "source": [
    "dill_save(psc_L,os.path.join(outputpath,'l.pkl'))\n",
    "dill_save(psc_R,os.path.join(outputpath,'r.pkl'))"
   ]
  },
  {
   "cell_type": "markdown",
   "metadata": {},
   "source": [
    "## Average across runs"
   ]
  },
  {
   "cell_type": "code",
   "execution_count": null,
   "metadata": {},
   "outputs": [],
   "source": [
    "#def runav(data,tsnr):\n",
    "#    dmean=np.squeeze(np.average(data,axis=0,weights=tsnr))\n",
    "#    return dmean\n",
    "\n",
    "def runav(data,tsnr):\n",
    "    dmean=np.squeeze(np.average(data,axis=0,weights=tsnr))\n",
    "    return dmean"
   ]
  },
  {
   "cell_type": "markdown",
   "metadata": {},
   "source": [
    "Perform this one tr at a time (this is to avoid memory issues)"
   ]
  },
  {
   "cell_type": "code",
   "execution_count": null,
   "metadata": {},
   "outputs": [],
   "source": [
    "meanlist_L=Parallel(n_jobs=5,verbose=9)(delayed(runav)(psc_L_arr[:,fn,:],tsnr_L_arr)  for fn in range(120))\n",
    "meanlist_R=Parallel(n_jobs=5,verbose=9)(delayed(runav)(psc_R_arr[:,fn,:],tsnr_R_arr)  for fn in range(120))"
   ]
  },
  {
   "cell_type": "code",
   "execution_count": null,
   "metadata": {},
   "outputs": [],
   "source": [
    "meanvolL=np.asarray(meanlist_L)\n",
    "meanvolR=np.asarray(meanlist_R)"
   ]
  },
  {
   "cell_type": "code",
   "execution_count": null,
   "metadata": {},
   "outputs": [],
   "source": [
    "meanvolL.shape"
   ]
  },
  {
   "cell_type": "markdown",
   "metadata": {},
   "source": [
    "The resulting shape is trs x vertices"
   ]
  },
  {
   "cell_type": "code",
   "execution_count": null,
   "metadata": {},
   "outputs": [],
   "source": [
    "atlaspath='/Volumes/BAHAMUT/ATLAS/lh.wang2015_atlas.mgz'\n",
    "surfpath='/Volumes/BAHAMUT/PRF_DATA/ds002574-download/derivatives/freesurfer/fsaverage/surf'\n",
    "atlas = surface.load_surf_data(atlaspath)"
   ]
  },
  {
   "cell_type": "code",
   "execution_count": null,
   "metadata": {},
   "outputs": [],
   "source": [
    "import os\n",
    "def listabsdir(FOLDER,ext):\n",
    "    \n",
    "   \n",
    "    def fprintf(stream, format_spec, *args):\n",
    "        stream.write(format_spec % args)\n",
    "    import os\n",
    "    import sys\n",
    "    niftilist=list()\n",
    "    for file in os.listdir(FOLDER):\n",
    "        if not file.startswith('.') and file.endswith(tuple(ext)):\n",
    "            niftilist.append(FOLDER+\"/\"+file)\n",
    "    fprintf(sys.stdout, \"Found %d files \\n\", len(niftilist))\n",
    "    return(sorted(niftilist))"
   ]
  },
  {
   "cell_type": "code",
   "execution_count": null,
   "metadata": {},
   "outputs": [],
   "source": [
    "from nilearn import plotting\n",
    "surface_files=listabsdir(surfpath, ['pial','orig','sphere', 'white','inflated'])\n",
    "surface_filesL=[surf for surf in surface_files if \"lh\" in(surf)]\n",
    "surface_filesR=[surf for surf in surface_files if \"rh\" in(surf)]\n",
    "\n",
    "plotting.view_surf(surface_filesL[4],surf_map=atlas)"
   ]
  },
  {
   "cell_type": "code",
   "execution_count": null,
   "metadata": {},
   "outputs": [],
   "source": [
    "roinames=[\"None\", \"V1v\", \"V1d\" ,\"V2v\" ,\"V2d\" ,\"V3v\" ,\"V3d\" ,\"hV4\" ,\"VO1\" ,\"VO2\" ,\"PHC1\" ,\"PHC2\",\n",
    "    \"TO2\" ,\"TO1\" ,\"LO2\", \"LO1\" ,\"V3B\",\"V3A\",\"IPS0\",\"IPS1\",\"IPS2\",\"IPS3\",\"IPS4\",\n",
    "    \"IPS5\" ,\"SPL1\" ,\"FEF\"]"
   ]
  },
  {
   "cell_type": "markdown",
   "metadata": {},
   "source": [
    "Get the vertices that correspond to V1."
   ]
  },
  {
   "cell_type": "code",
   "execution_count": null,
   "metadata": {},
   "outputs": [],
   "source": [
    "number=roinames.index(\"V1d\")\n",
    "number"
   ]
  },
  {
   "cell_type": "code",
   "execution_count": null,
   "metadata": {},
   "outputs": [],
   "source": [
    "idx=np.squeeze(np.where(atlas == number))"
   ]
  },
  {
   "cell_type": "code",
   "execution_count": null,
   "metadata": {},
   "outputs": [],
   "source": [
    "signalsL=meanvolL[:,idx]\n",
    "signalsR=meanvolR[:,idx]"
   ]
  },
  {
   "cell_type": "markdown",
   "metadata": {},
   "source": [
    "Plot the data within V1"
   ]
  },
  {
   "cell_type": "code",
   "execution_count": null,
   "metadata": {},
   "outputs": [],
   "source": [
    "figsizex=70\n",
    "figsizey=10\n",
    "\n",
    "import matplotlib.pyplot as plt\n",
    "\n",
    "def plotts(data):\n",
    "    ylim=(np.min(data),np.max(data))\n",
    "    plt.figure(figsize=(figsizex,figsizey))\n",
    "    plt.plot(data)\n",
    "    plt.rcParams.update({'font.size': 40})\n",
    "    plt.ylim(ylim)\n",
    "    plt.xlabel('Time')\n",
    "    plt.ylabel('Response')\n",
    "    plt.show()\n",
    "\n",
    "plotts(meanvolL[:,idx])"
   ]
  },
  {
   "cell_type": "code",
   "execution_count": null,
   "metadata": {},
   "outputs": [],
   "source": [
    "plotts(meanvolL[:,idx[2]])"
   ]
  },
  {
   "cell_type": "markdown",
   "metadata": {},
   "source": [
    "## Save the mean volumes for model fitting."
   ]
  },
  {
   "cell_type": "code",
   "execution_count": null,
   "metadata": {},
   "outputs": [],
   "source": [
    "dumpdir='/Volumes/BAHAMUT/DUMP'"
   ]
  },
  {
   "cell_type": "code",
   "execution_count": null,
   "metadata": {},
   "outputs": [],
   "source": [
    "import dill\n",
    "import os\n",
    "\n",
    "def dill_save(obj,filename):\n",
    "    with open(filename,'wb') as output:\n",
    "        dill.dump(obj,output)\n",
    "\n",
    "dill_save(meanvolL,os.path.join(dumpdir,'LHEM.pkl'))\n",
    "dill_save(meanvolR,os.path.join(dumpdir,'RHEM.pkl'))"
   ]
  },
  {
   "cell_type": "code",
   "execution_count": null,
   "metadata": {},
   "outputs": [],
   "source": [
    "idx"
   ]
  },
  {
   "cell_type": "code",
   "execution_count": null,
   "metadata": {},
   "outputs": [],
   "source": []
  }
 ],
 "metadata": {
  "kernelspec": {
   "display_name": "Python 3",
   "language": "python",
   "name": "python3"
  },
  "language_info": {
   "codemirror_mode": {
    "name": "ipython",
    "version": 3
   },
   "file_extension": ".py",
   "mimetype": "text/x-python",
   "name": "python",
   "nbconvert_exporter": "python",
   "pygments_lexer": "ipython3",
   "version": "3.6.10"
  }
 },
 "nbformat": 4,
 "nbformat_minor": 2
}
